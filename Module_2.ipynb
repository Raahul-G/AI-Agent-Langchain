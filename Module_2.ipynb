{
 "cells": [
  {
   "cell_type": "markdown",
   "id": "42d1df4d",
   "metadata": {},
   "source": [
    "# State Schema"
   ]
  },
  {
   "cell_type": "markdown",
   "id": "1cc59325",
   "metadata": {},
   "source": [
    "## Review\n",
    "\n",
    "Goals\n",
    "\n",
    "Building a deeper understanding of both state and memory.\n",
    "\n",
    "## Schema\n",
    "\n",
    "When we define a LangGraph `StateGraph`, we use a [state schema](https://langchain-ai.github.io/langgraph/concepts/low_level/#state).\n",
    "\n",
    "The state schema represents the structure and types of data that our graph will use.\n",
    "\n",
    "All nodes are expected to communicate with that schema.\n",
    "\n",
    "LangGraph offers flexibility in how you define your state schema, accommodating various Python [types](https://docs.python.org/3/library/stdtypes.html#type-objects) and validation approaches!\n"
   ]
  },
  {
   "cell_type": "code",
   "execution_count": 8,
   "id": "36eb08cf",
   "metadata": {},
   "outputs": [],
   "source": [
    "from typing_extensions import TypedDict\n",
    "from typing import Literal\n",
    "\n",
    "class TypedDictState(TypedDict):\n",
    "    name: str\n",
    "    mood: Literal['happy', 'sad']"
   ]
  },
  {
   "cell_type": "code",
   "execution_count": 9,
   "id": "54db8e17",
   "metadata": {},
   "outputs": [
    {
     "data": {
      "image/png": "[encoded data removed]",
      "text/plain": [
       "<IPython.core.display.Image object>"
      ]
     },
     "metadata": {},
     "output_type": "display_data"
    }
   ],
   "source": [
    "import random\n",
    "from IPython.display import Image, display\n",
    "from langgraph.graph import StateGraph, START, END\n",
    "\n",
    "def node_1(state):\n",
    "    print(\"---Node 1---\")\n",
    "    return {\"name\": state['name'] + \" is ... \"}\n",
    "\n",
    "def node_2(state):\n",
    "    print(\"---Node 2---\")\n",
    "    return {\"mood\": \"happy\"}\n",
    "\n",
    "def node_3(state):\n",
    "    print(\"---Node 3---\")\n",
    "    return {\"mood\": \"sad\"}\n",
    "\n",
    "def decide_mood(state) -> Literal[\"node_2\", \"node_3\"]:\n",
    "\n",
    "    if random.random() < 0.5:\n",
    "        return \"node_2\"\n",
    "    \n",
    "    return \"node_3\"\n",
    "\n",
    "#Builder graph\n",
    "builder = StateGraph(TypedDictState)\n",
    "builder.add_node(\"node_1\", node_1)\n",
    "builder.add_node(\"node_2\", node_2)\n",
    "builder.add_node(\"node_3\", node_3)\n",
    "\n",
    "# Logic\n",
    "builder.add_edge(START, \"node_1\")\n",
    "builder.add_conditional_edges(\"node_1\", decide_mood)\n",
    "builder.add_edge(\"node_2\", END)\n",
    "builder.add_edge(\"node_3\", END)\n",
    "\n",
    "# Compile\n",
    "graph = builder.compile()\n",
    "\n",
    "# View\n",
    "display(Image(graph.get_graph(xray=True).draw_mermaid_png()))"
   ]
  },
  {
   "cell_type": "code",
   "execution_count": 10,
   "id": "0ef07033",
   "metadata": {},
   "outputs": [
    {
     "name": "stdout",
     "output_type": "stream",
     "text": [
      "---Node 1---\n",
      "---Node 3---\n"
     ]
    },
    {
     "data": {
      "text/plain": [
       "{'name': 'Raahul is ... ', 'mood': 'sad'}"
      ]
     },
     "execution_count": 10,
     "metadata": {},
     "output_type": "execute_result"
    }
   ],
   "source": [
    "graph.invoke({'name': \"Raahul\"})"
   ]
  },
  {
   "cell_type": "markdown",
   "id": "045e52b4",
   "metadata": {},
   "source": [
    "## Dataclass\n",
    "\n",
    "Python's [dataclasses](https://docs.python.org/3/library/dataclasses.html) provide [another way to define structured data](https://www.datacamp.com/tutorial/python-data-classes).\n",
    "\n",
    "Dataclasses offer a concise syntax for creating classes that are primarily used to store data."
   ]
  },
  {
   "cell_type": "code",
   "execution_count": 11,
   "id": "75ea1e82",
   "metadata": {},
   "outputs": [],
   "source": [
    "from dataclasses import dataclass\n",
    "\n",
    "@dataclass\n",
    "class DataClassState:\n",
    "    name: str\n",
    "    mood: Literal[\"happy\", \"sad\"]"
   ]
  },
  {
   "cell_type": "markdown",
   "id": "a2f73ca0",
   "metadata": {},
   "source": [
    "To access the keys of a `dataclass`, we just need to modify the subscripting used in `node_1`: \n",
    "\n",
    "* We use `state.name` for the `dataclass` state rather than `state[\"name\"]` for the `TypedDict` above\n",
    "\n",
    "You'll notice something a bit odd: in each node, we still return a dictionary to perform the state updates.\n",
    " \n",
    "This is possible because LangGraph stores each key of your state object separately.\n",
    "\n",
    "The object returned by the node only needs to have keys (attributes) that match those in the state!\n",
    "\n",
    "In this case, the `dataclass` has key `name` so we can update it by passing a dict from our node, just as we did when state was a `TypedDict`."
   ]
  },
  {
   "cell_type": "code",
   "execution_count": 12,
   "id": "31a4541b",
   "metadata": {},
   "outputs": [
    {
     "data": {
      "image/png": "[encoded data removed]",
      "text/plain": [
       "<IPython.core.display.Image object>"
      ]
     },
     "metadata": {},
     "output_type": "display_data"
    }
   ],
   "source": [
    "def node_1(state):\n",
    "    print(\"---Node 1---\")\n",
    "    return {\"name\": state.name + \" is ...\"}\n",
    "\n",
    "# Build graph\n",
    "builder = StateGraph(DataClassState)\n",
    "builder.add_node(\"node_1\", node_1)\n",
    "builder.add_node(\"node_2\", node_2)\n",
    "builder.add_node(\"node_3\", node_3)\n",
    "\n",
    "# Logic\n",
    "builder.add_edge(START, \"node_1\")\n",
    "builder.add_conditional_edges(\"node_1\", decide_mood)\n",
    "builder.add_edge(\"node_2\", END)\n",
    "builder.add_edge(\"node_3\", END)\n",
    "\n",
    "# Compile\n",
    "graph = builder.compile()\n",
    "\n",
    "# View\n",
    "display(Image(graph.get_graph(xray=True).draw_mermaid_png()))\n"
   ]
  },
  {
   "cell_type": "code",
   "execution_count": 13,
   "id": "6440f0c4",
   "metadata": {},
   "outputs": [
    {
     "name": "stdout",
     "output_type": "stream",
     "text": [
      "---Node 1---\n",
      "---Node 3---\n"
     ]
    },
    {
     "data": {
      "text/plain": [
       "{'name': 'Raahul is ...', 'mood': 'sad'}"
      ]
     },
     "execution_count": 13,
     "metadata": {},
     "output_type": "execute_result"
    }
   ],
   "source": [
    "graph.invoke(DataClassState(name=\"Raahul\", mood=\"mad\"))"
   ]
  },
  {
   "cell_type": "markdown",
   "id": "b2792f2d",
   "metadata": {},
   "source": [
    "## Pydantic\n",
    "\n",
    "As mentioned, `TypedDict` and `dataclasses` provide type hints but they don't enforce types at runtime. \n",
    " \n",
    "This means you could potentially assign invalid values without raising an error!\n",
    "\n",
    "For example, we can set `mood` to `mad` even though our type hint specifies `mood: list[Literal[\"happy\",\"sad\"]]`."
   ]
  },
  {
   "cell_type": "code",
   "execution_count": 14,
   "id": "bc2bed5b",
   "metadata": {},
   "outputs": [],
   "source": [
    "from pydantic import BaseModel, field_validator, ValidationError\n",
    "\n",
    "class PydanticState(BaseModel):\n",
    "    name: str\n",
    "    mood: str\n",
    "\n",
    "    @field_validator('mood')\n",
    "    @classmethod\n",
    "\n",
    "    def validate_mood(cls, value):\n",
    "        if value not in ['happy', 'sad']:\n",
    "            raise ValidationError(\"Each mood must be 'happy' or 'sad'\")\n",
    "        return value\n",
    "    \n",
    "try:\n",
    "    state = PydanticState(name=\"Raahul\", mood='sad')\n",
    "except ValidationError as e:\n",
    "    print(\"ValidationError:\", e)"
   ]
  },
  {
   "cell_type": "code",
   "execution_count": 15,
   "id": "b93f1f48",
   "metadata": {},
   "outputs": [
    {
     "data": {
      "image/png": "[encoded data removed]",
      "text/plain": [
       "<IPython.core.display.Image object>"
      ]
     },
     "metadata": {},
     "output_type": "display_data"
    }
   ],
   "source": [
    "# Build graph\n",
    "builder = StateGraph(PydanticState)\n",
    "builder.add_node(\"node_1\", node_1)\n",
    "builder.add_node(\"node_2\", node_2)\n",
    "builder.add_node(\"node_3\", node_3)\n",
    "\n",
    "# Logic\n",
    "builder.add_edge(START, \"node_1\")\n",
    "builder.add_conditional_edges(\"node_1\", decide_mood)\n",
    "builder.add_edge(\"node_2\", END)\n",
    "builder.add_edge(\"node_3\", END)\n",
    "\n",
    "# Add\n",
    "graph = builder.compile()\n",
    "\n",
    "# View\n",
    "display(Image(graph.get_graph().draw_mermaid_png()))"
   ]
  },
  {
   "cell_type": "markdown",
   "id": "ac0faa07",
   "metadata": {},
   "source": [
    "Change the mood to anything other than happy or sad."
   ]
  },
  {
   "cell_type": "code",
   "execution_count": 16,
   "id": "2e4669af",
   "metadata": {},
   "outputs": [
    {
     "name": "stdout",
     "output_type": "stream",
     "text": [
      "---Node 1---\n",
      "---Node 3---\n"
     ]
    },
    {
     "data": {
      "text/plain": [
       "{'name': 'Lance is ...', 'mood': 'sad'}"
      ]
     },
     "execution_count": 16,
     "metadata": {},
     "output_type": "execute_result"
    }
   ],
   "source": [
    "graph.invoke(PydanticState(name=\"Lance\",mood=\"sad\"))"
   ]
  },
  {
   "cell_type": "markdown",
   "id": "1d5f0c2f",
   "metadata": {},
   "source": [
    "# State Reducers"
   ]
  },
  {
   "cell_type": "markdown",
   "id": "40fa104b",
   "metadata": {},
   "source": [
    "Goals\n",
    "- Dive into reducers, which specify how State updates are performed on specififc keys / channels in the state schema"
   ]
  },
  {
   "cell_type": "markdown",
   "id": "c5121815",
   "metadata": {},
   "source": [
    "## Default - Overwriting State"
   ]
  },
  {
   "cell_type": "markdown",
   "id": "077af51a",
   "metadata": {},
   "source": [
    "Branching"
   ]
  },
  {
   "cell_type": "code",
   "execution_count": 17,
   "id": "7ced06b9",
   "metadata": {},
   "outputs": [
    {
     "data": {
      "image/png": "[encoded data removed]",
      "text/plain": [
       "<IPython.core.display.Image object>"
      ]
     },
     "metadata": {},
     "output_type": "display_data"
    }
   ],
   "source": [
    "from typing_extensions import TypedDict\n",
    "from IPython.display import Image, display\n",
    "from langgraph.graph import StateGraph, START, END\n",
    "\n",
    "class State(TypedDict):\n",
    "    foo: int\n",
    "\n",
    "def node_1(state):\n",
    "    print(\"---Node 1---\")\n",
    "    return {\"foo\": state['foo']+1}\n",
    "\n",
    "def node_2(state):\n",
    "    print(\"---Node 2---\")\n",
    "    return {\"foo\": state['foo']+1}\n",
    "\n",
    "def node_3(state):\n",
    "    print(\"---Node 3---\")\n",
    "    return {\"foo\": state['foo']+1}\n",
    "\n",
    "# Build graph\n",
    "builder = StateGraph(State)\n",
    "builder.add_node(\"node_1\", node_1)\n",
    "builder.add_node(\"node_2\", node_2)\n",
    "builder.add_node(\"node_3\", node_3)\n",
    "\n",
    "# Logic\n",
    "builder.add_edge(START, \"node_1\")\n",
    "builder.add_edge(\"node_1\", \"node_2\")\n",
    "builder.add_edge(\"node_1\", \"node_3\")\n",
    "builder.add_edge(\"node_2\", END)\n",
    "builder.add_edge(\"node_3\", END)\n",
    "\n",
    "# Compile\n",
    "graph = builder.compile()\n",
    "\n",
    "# View\n",
    "display(Image(graph.get_graph(xray=True).draw_mermaid_png()))"
   ]
  },
  {
   "cell_type": "code",
   "execution_count": 18,
   "id": "11065fa9",
   "metadata": {},
   "outputs": [
    {
     "name": "stdout",
     "output_type": "stream",
     "text": [
      "---Node 1---\n",
      "---Node 2---\n",
      "---Node 3---\n",
      "InvalidUpdateError occured: At key 'foo': Can receive only one value per step. Use an Annotated key to handle multiple values.\n",
      "For troubleshooting, visit: https://python.langchain.com/docs/troubleshooting/errors/INVALID_CONCURRENT_GRAPH_UPDATE\n"
     ]
    }
   ],
   "source": [
    "from langgraph.errors import InvalidUpdateError\n",
    "\n",
    "try:\n",
    "    graph.invoke({\"foo\":1})\n",
    "except InvalidUpdateError as e:\n",
    "    print(f\"InvalidUpdateError occured: {e}\")"
   ]
  },
  {
   "cell_type": "markdown",
   "id": "f3cb513e",
   "metadata": {},
   "source": [
    "## Reducers"
   ]
  },
  {
   "cell_type": "markdown",
   "id": "055d898e",
   "metadata": {},
   "source": [
    "[Reducers](https://langchain-ai.github.io/langgraph/concepts/low_level/#reducers) give us a general way to address this problem.\n",
    "\n",
    "They specify how to perform updates.\n",
    "\n",
    "We can use the `Annotated` type to specify a reducer function. \n",
    "\n",
    "For example, in this case let's append the value returned from each node rather than overwriting them.\n",
    "\n",
    "We just need a reducer that can perform this: `operator.add` is a function from Python's built-in operator module.\n",
    "\n",
    "When `operator.add` is applied to lists, it performs list concatenation."
   ]
  },
  {
   "cell_type": "code",
   "execution_count": 19,
   "id": "da2811aa",
   "metadata": {},
   "outputs": [
    {
     "data": {
      "image/png": "[encoded data removed]",
      "text/plain": [
       "<IPython.core.display.Image object>"
      ]
     },
     "metadata": {},
     "output_type": "display_data"
    }
   ],
   "source": [
    "from operator import add\n",
    "from typing import Annotated\n",
    "\n",
    "class State(TypedDict):\n",
    "    foo : Annotated[list[int], add]\n",
    "\n",
    "def node_1(state):\n",
    "    print(\"---Node 1\")\n",
    "    return {'foo': [state['foo'][-1] + 1]}\n",
    "\n",
    "def node_2(state):\n",
    "    print(\"---Node 2\")\n",
    "    return {'foo': [state['foo'][-1] + 1]}\n",
    "\n",
    "def node_3(state):\n",
    "    print(\"---Node 3\")\n",
    "    return {'foo': [state['foo'][-1] + 1]}\n",
    "\n",
    "# Build graph\n",
    "builder = StateGraph(State)\n",
    "builder.add_node(\"node_1\", node_1)\n",
    "builder.add_node(\"node_2\", node_2)\n",
    "builder.add_node(\"node_3\", node_3)\n",
    "\n",
    "# Logic\n",
    "builder.add_edge(START, \"node_1\")\n",
    "builder.add_edge(\"node_1\", \"node_2\")\n",
    "builder.add_edge(\"node_1\", \"node_3\")\n",
    "builder.add_edge(\"node_2\", END)\n",
    "builder.add_edge(\"node_3\", END)\n",
    "\n",
    "# Compile\n",
    "graph = builder.compile()\n",
    "\n",
    "# View\n",
    "display(Image(graph.get_graph(xray=True).draw_mermaid_png()))\n"
   ]
  },
  {
   "cell_type": "markdown",
   "id": "140b53a4",
   "metadata": {},
   "source": [
    "We can see that updates in nodes 2 and 3 are performed concurrently because they are in the same step."
   ]
  },
  {
   "cell_type": "code",
   "execution_count": 20,
   "id": "8bf6ed88",
   "metadata": {},
   "outputs": [
    {
     "name": "stdout",
     "output_type": "stream",
     "text": [
      "---Node 1\n",
      "---Node 2\n",
      "---Node 3\n"
     ]
    },
    {
     "data": {
      "text/plain": [
       "{'foo': [1, 2, 3, 3]}"
      ]
     },
     "execution_count": 20,
     "metadata": {},
     "output_type": "execute_result"
    }
   ],
   "source": [
    "graph.invoke({'foo':[1]})"
   ]
  },
  {
   "cell_type": "markdown",
   "id": "8876bf65",
   "metadata": {},
   "source": [
    "Now, let's see what happens if we pass `None` to `foo`.\n",
    "\n",
    "We see an error because our reducer, `operator.add`, attempts to concatenate `NoneType` pass as input to list in `node_1`. "
   ]
  },
  {
   "cell_type": "code",
   "execution_count": 21,
   "id": "4bbecfab",
   "metadata": {},
   "outputs": [
    {
     "name": "stdout",
     "output_type": "stream",
     "text": [
      "TypedError occurred: can only concatenate list (not \"NoneType\") to list\n"
     ]
    }
   ],
   "source": [
    "try:\n",
    "    graph.invoke({\"foo\": None})\n",
    "except TypeError as e:\n",
    "    print(f\"TypedError occurred: {e}\")"
   ]
  },
  {
   "cell_type": "markdown",
   "id": "a194207c",
   "metadata": {},
   "source": [
    "## Custom Reducers"
   ]
  },
  {
   "cell_type": "code",
   "execution_count": 22,
   "id": "61980057",
   "metadata": {},
   "outputs": [],
   "source": [
    "def reduce_list(left:list|None, right: list|None)-> list:\n",
    "    \"\"\"Safely combine two lists, handling cases where either or both inputs might be None.\n",
    "\n",
    "    Args:\n",
    "        left (list | None): The first list to combine, or None.\n",
    "        right (list | None): The second list to combine, or None.\n",
    "\n",
    "    Returns:\n",
    "        list: A new list containing all elements from both input lists.\n",
    "               If an input is None, it's treated as an empty list.\n",
    "    \"\"\"\n",
    "\n",
    "    if not left:\n",
    "        left = []\n",
    "    if not right:\n",
    "        right = []\n",
    "    \n",
    "    return left+right\n",
    "\n",
    "class DefaultState(TypedDict):\n",
    "    foo : Annotated[list[int], add]\n",
    "\n",
    "class CustomReducerState(TypedDict):\n",
    "    foo : Annotated[list[int], reduce_list]"
   ]
  },
  {
   "cell_type": "code",
   "execution_count": 23,
   "id": "b0b8d558",
   "metadata": {},
   "outputs": [
    {
     "data": {
      "image/png": "[encoded data removed]",
      "text/plain": [
       "<IPython.core.display.Image object>"
      ]
     },
     "metadata": {},
     "output_type": "display_data"
    },
    {
     "name": "stdout",
     "output_type": "stream",
     "text": [
      "TypeError occurred: can only concatenate list (not \"NoneType\") to list\n"
     ]
    }
   ],
   "source": [
    "def node_1(state):\n",
    "    print(\"---Node 1---\")\n",
    "    return {\"foo\": [2]}\n",
    "\n",
    "# Build graph\n",
    "builder = StateGraph(DefaultState)\n",
    "builder.add_node(\"node_1\", node_1)\n",
    "\n",
    "# Logic\n",
    "builder.add_edge(START, \"node_1\")\n",
    "builder.add_edge(\"node_1\", END)\n",
    "\n",
    "# Add\n",
    "graph = builder.compile()\n",
    "\n",
    "# View\n",
    "display(Image(graph.get_graph().draw_mermaid_png()))\n",
    "\n",
    "try:\n",
    "    print(graph.invoke({\"foo\" : None}))\n",
    "except TypeError as e:\n",
    "    print(f\"TypeError occurred: {e}\")"
   ]
  },
  {
   "cell_type": "markdown",
   "id": "eefa7937",
   "metadata": {},
   "source": [
    "Lets, try using our custom reducer. We can see that no error is thrown."
   ]
  },
  {
   "cell_type": "code",
   "execution_count": 24,
   "id": "d270edd9",
   "metadata": {},
   "outputs": [
    {
     "data": {
      "image/png": "[encoded data removed]",
      "text/plain": [
       "<IPython.core.display.Image object>"
      ]
     },
     "metadata": {},
     "output_type": "display_data"
    },
    {
     "name": "stdout",
     "output_type": "stream",
     "text": [
      "---Node 1---\n",
      "{'foo': [2]}\n"
     ]
    }
   ],
   "source": [
    "# Builder graph\n",
    "builder = StateGraph(CustomReducerState)\n",
    "builder.add_node(\"node_1\", node_1)\n",
    "\n",
    "# Logic\n",
    "builder.add_edge(START, \"node_1\")\n",
    "builder.add_edge(\"node_1\", END)\n",
    "\n",
    "# Compile\n",
    "graph = builder.compile()\n",
    "\n",
    "# View\n",
    "display(Image(graph.get_graph(xray=True).draw_mermaid_png()))\n",
    "\n",
    "try:\n",
    "    print(graph.invoke({\"foo\":None}))\n",
    "except TypeError as e:\n",
    "    print(f\"TypeError occured: {e}\")"
   ]
  },
  {
   "cell_type": "markdown",
   "id": "ce391eb2",
   "metadata": {},
   "source": [
    "## Messages"
   ]
  },
  {
   "cell_type": "markdown",
   "id": "6557ac20",
   "metadata": {},
   "source": [
    "Re-writng\n",
    "\n",
    "If we pass a message with the sameID as an exisiting one in our `messages` list, `add_messages` reducer will overwrite it"
   ]
  },
  {
   "cell_type": "code",
   "execution_count": 25,
   "id": "819e489b",
   "metadata": {},
   "outputs": [
    {
     "data": {
      "text/plain": [
       "[AIMessage(content='Hello! How can I assist you?', additional_kwargs={}, response_metadata={}, name='Model', id='1'),\n",
       " HumanMessage(content=\"I'm looking for information on MS Dhoni, specifically\", additional_kwargs={}, response_metadata={}, name='Raahul', id='2')]"
      ]
     },
     "execution_count": 25,
     "metadata": {},
     "output_type": "execute_result"
    }
   ],
   "source": [
    "from langgraph.graph.message import add_messages\n",
    "from langchain_core.messages import AIMessage, HumanMessage\n",
    "\n",
    "# Initial state\n",
    "initial_messages = [AIMessage(content=\"Hello! How can I assist you?\", name=\"Model\", id=\"1\"),\n",
    "                    HumanMessage(content=\"I'm looking for information on CHennai Super Kings.\", name=\"Raahul\", id=\"2\")\n",
    "                   ]\n",
    "\n",
    "# New message to add\n",
    "new_message = HumanMessage(content=\"I'm looking for information on MS Dhoni, specifically\", name=\"Raahul\", id=\"2\")\n",
    "\n",
    "# Test\n",
    "add_messages(initial_messages , new_message)"
   ]
  },
  {
   "cell_type": "markdown",
   "id": "73ff2531",
   "metadata": {},
   "source": [
    "Removal\n",
    "\n",
    "`add_messages` also enables message removal."
   ]
  },
  {
   "cell_type": "code",
   "execution_count": 26,
   "id": "aa814a11",
   "metadata": {},
   "outputs": [
    {
     "name": "stdout",
     "output_type": "stream",
     "text": [
      "[RemoveMessage(content='', additional_kwargs={}, response_metadata={}, id='1'), RemoveMessage(content='', additional_kwargs={}, response_metadata={}, id='2')]\n"
     ]
    }
   ],
   "source": [
    "from langchain_core.messages import RemoveMessage\n",
    "\n",
    "# Message list\n",
    "messages = [AIMessage(\"Hi.\", name=\"Bot\", id=\"1\")]\n",
    "messages.append(HumanMessage(\"Hi.\", name=\"Raahul\", id=\"2\"))\n",
    "messages.append(AIMessage(\"So you said you were intrested on IPL\", name=\"Bot\", id=\"3\"))\n",
    "messages.append(HumanMessage(\"Yes, I just started following IPL, tell me more about this league\", name=\"Raahul\", id=\"4\"))\n",
    "\n",
    "# Isolate messages to delete\n",
    "delete_messages = [RemoveMessage(id=m.id) for m in messages[0:2]]\n",
    "print(delete_messages)"
   ]
  },
  {
   "cell_type": "code",
   "execution_count": 27,
   "id": "331604c4",
   "metadata": {},
   "outputs": [
    {
     "data": {
      "text/plain": [
       "[AIMessage(content='So you said you were intrested on IPL', additional_kwargs={}, response_metadata={}, name='Bot', id='3'),\n",
       " HumanMessage(content='Yes, I just started following IPL, tell me more about this league', additional_kwargs={}, response_metadata={}, name='Raahul', id='4')]"
      ]
     },
     "execution_count": 27,
     "metadata": {},
     "output_type": "execute_result"
    }
   ],
   "source": [
    "add_messages(messages, delete_messages)"
   ]
  },
  {
   "cell_type": "markdown",
   "id": "bb2dfd26",
   "metadata": {},
   "source": [
    "# Multiple Schemas"
   ]
  },
  {
   "cell_type": "markdown",
   "id": "c32a12fd",
   "metadata": {},
   "source": [
    "Goals\n",
    "\n",
    "* Internal nodes may pass information that is *not required* in the graph's input / output.\n",
    "\n",
    "* We may also want to use different input / output schemas for the graph. The output might, for example, only contain a single relevant output key."
   ]
  },
  {
   "cell_type": "markdown",
   "id": "f0e9bda4",
   "metadata": {},
   "source": [
    "## Private State\n",
    "\n",
    "[Private state](https://langchain-ai.github.io/langgraph/how-tos/pass_private_state/) between nodes.\n",
    "\n",
    "This is useful for anything needed as part of the intermediate working logic of the graph, but not relevant for the overall graph input or output.\n",
    "\n",
    "We'll define an `OverallState` and a `PrivateState`.\n",
    "\n",
    "`node_2` uses `PrivateState` as input, but writes out to `OverallState`."
   ]
  },
  {
   "cell_type": "code",
   "execution_count": 28,
   "id": "83a81733",
   "metadata": {},
   "outputs": [
    {
     "data": {
      "image/png": "[encoded data removed]",
      "text/plain": [
       "<IPython.core.display.Image object>"
      ]
     },
     "metadata": {},
     "output_type": "display_data"
    }
   ],
   "source": [
    "from typing_extensions import TypedDict\n",
    "from IPython.display import Image, display\n",
    "from langgraph.graph import StateGraph, START, END\n",
    "\n",
    "class OverallState(TypedDict):\n",
    "    foo: int\n",
    "\n",
    "class PrivateState(TypedDict):\n",
    "    bar: int\n",
    "\n",
    "def node_1(state:OverallState)-> PrivateState:\n",
    "    print(\"---Node 1---\")\n",
    "    return {\"bar\": state['foo'] + 1}\n",
    "\n",
    "def node_2(state:PrivateState)-> OverallState:\n",
    "    print(\"---Node 2---\")\n",
    "    return {\"foo\": state['bar'] + 1}\n",
    "\n",
    "# Builder graph \n",
    "builder = StateGraph(OverallState)\n",
    "builder.add_node(\"node_1\", node_1)\n",
    "builder.add_node(\"node_2\", node_2)\n",
    "\n",
    "# Logic\n",
    "builder.add_edge(START, \"node_1\")\n",
    "builder.add_edge(\"node_1\", \"node_2\")\n",
    "builder.add_edge(\"node_2\", END)\n",
    "\n",
    "# Compile\n",
    "graph = builder.compile()\n",
    "\n",
    "# View\n",
    "display(Image(graph.get_graph(xray=True).draw_mermaid_png()))"
   ]
  },
  {
   "cell_type": "code",
   "execution_count": 29,
   "id": "05962bae",
   "metadata": {},
   "outputs": [
    {
     "name": "stdout",
     "output_type": "stream",
     "text": [
      "---Node 1---\n",
      "---Node 2---\n"
     ]
    },
    {
     "data": {
      "text/plain": [
       "{'foo': 3}"
      ]
     },
     "execution_count": 29,
     "metadata": {},
     "output_type": "execute_result"
    }
   ],
   "source": [
    "graph.invoke({\"foo\": 1})"
   ]
  },
  {
   "cell_type": "markdown",
   "id": "53145731",
   "metadata": {},
   "source": [
    "## Input / Output Schema\n",
    "\n",
    "By default, `StateGraph` takes in a single schema and all nodes are expected to communicate with that schema. \n",
    "\n",
    "However, it is also possible to [define explicit input and output schemas for a graph](https://langchain-ai.github.io/langgraph/how-tos/input_output_schema/?h=input+outp).\n",
    "\n",
    "Often, in these cases, we define an \"internal\" schema that contains *all* keys relevant to graph operations.\n",
    "\n",
    "But, we use specific `input` and `output` schemas to constrain the input and output.\n",
    "\n",
    "First, let's just run the graph with a single schema."
   ]
  },
  {
   "cell_type": "code",
   "execution_count": 30,
   "id": "229780e2",
   "metadata": {},
   "outputs": [
    {
     "data": {
      "image/png": "[encoded data removed]",
      "text/plain": [
       "<IPython.core.display.Image object>"
      ]
     },
     "metadata": {},
     "output_type": "display_data"
    }
   ],
   "source": [
    "class OverallState(TypedDict):\n",
    "    question: str\n",
    "    answer: str\n",
    "    notes: str\n",
    "\n",
    "def thinking_node(state: OverallState):\n",
    "    return {\"answer\": \"bye\", \"notes\":\"...his name is Raahul\"}\n",
    "\n",
    "def answer_node(state: OverallState):\n",
    "    return {\"answer\": \"bye Raahul\"}\n",
    "\n",
    "graph = StateGraph(OverallState)\n",
    "graph.add_node(\"answer_node\", answer_node)\n",
    "graph.add_node(\"thinking_node\", thinking_node)\n",
    "graph.add_edge(START, \"thinking_node\")\n",
    "graph.add_edge(\"thinking_node\", \"answer_node\")\n",
    "graph.add_edge(\"answer_node\", END)\n",
    "\n",
    "graph = graph.compile()\n",
    "\n",
    "# View\n",
    "display(Image(graph.get_graph(xray=True).draw_mermaid_png()))"
   ]
  },
  {
   "cell_type": "markdown",
   "id": "04dbc011",
   "metadata": {},
   "source": [
    "Notice, that the output of invoke contains all keys in `OverallState`"
   ]
  },
  {
   "cell_type": "code",
   "execution_count": 31,
   "id": "8f5ac756",
   "metadata": {},
   "outputs": [
    {
     "data": {
      "text/plain": [
       "{'question': 'hi', 'answer': 'bye Raahul', 'notes': '...his name is Raahul'}"
      ]
     },
     "execution_count": 31,
     "metadata": {},
     "output_type": "execute_result"
    }
   ],
   "source": [
    "graph.invoke({\"question\":\"hi\"})"
   ]
  },
  {
   "cell_type": "markdown",
   "id": "6fc58730",
   "metadata": {},
   "source": [
    "Now, let's use a specific `input` and `output` schema with our graph.\n",
    "\n",
    "Here, `input` / `output` schemas perform *filtering* on what keys are permitted on the input and output of the graph. \n",
    "\n",
    "In addition, we can use a type hint `state: InputState` to specify the input schema of each of our nodes.\n",
    "\n",
    "This is important when the graph is using multiple schemas.\n",
    "\n",
    "We use type hints below to, for example, show that the output of `answer_node` will be filtered to `OutputState`. "
   ]
  },
  {
   "cell_type": "code",
   "execution_count": 32,
   "id": "c1dbf45d",
   "metadata": {},
   "outputs": [
    {
     "data": {
      "image/png": "[encoded data removed]",
      "text/plain": [
       "<IPython.core.display.Image object>"
      ]
     },
     "metadata": {},
     "output_type": "display_data"
    },
    {
     "data": {
      "text/plain": [
       "{'answer': 'Bye Raahul'}"
      ]
     },
     "execution_count": 32,
     "metadata": {},
     "output_type": "execute_result"
    }
   ],
   "source": [
    "class InputState(TypedDict):\n",
    "    question: str\n",
    "\n",
    "class OutputState(TypedDict):\n",
    "    answer: str\n",
    "\n",
    "class OverallState(TypedDict):\n",
    "    question:str\n",
    "    answer:str\n",
    "    notes: str\n",
    "\n",
    "def thinking_node(state: InputState):\n",
    "    return{\"answer\": \"Bye\", \"notes\":\".. his name is Raahul\"}\n",
    "\n",
    "def answer_node(state: OverallState)-> OutputState:\n",
    "    return {\"answer\": \"Bye Raahul\"}\n",
    "\n",
    "# Builder\n",
    "graph = StateGraph(OverallState, input=InputState, output=OutputState)\n",
    "graph.add_node(\"answer_node\", answer_node)\n",
    "graph.add_node(\"thinking_node\", thinking_node)\n",
    "graph.add_edge(START, \"thinking_node\")\n",
    "graph.add_edge(\"thinking_node\", \"answer_node\")\n",
    "graph.add_edge(\"answer_node\", END)\n",
    "\n",
    "# Compile\n",
    "graph = graph.compile()\n",
    "\n",
    "# View\n",
    "display(Image(graph.get_graph(xray=True).draw_mermaid_png()))\n",
    "\n",
    "# Invoke\n",
    "graph.invoke({\"question\": \"hi\"})"
   ]
  },
  {
   "cell_type": "markdown",
   "id": "f37b5651",
   "metadata": {},
   "source": [
    "# Filtering and trimming messages"
   ]
  },
  {
   "cell_type": "markdown",
   "id": "a638cdfa",
   "metadata": {},
   "source": [
    "Goals\n",
    " \n",
    "- To build a chatbot that has long-term memory.\n",
    "\n",
    "Because our chatbot will use messages, let's first talk a bit more about advanced ways to work with messages in graph state."
   ]
  },
  {
   "cell_type": "markdown",
   "id": "bdd7d092",
   "metadata": {},
   "source": [
    "## Messages as state"
   ]
  },
  {
   "cell_type": "code",
   "execution_count": 33,
   "id": "9511e870",
   "metadata": {},
   "outputs": [
    {
     "name": "stdout",
     "output_type": "stream",
     "text": [
      "==================================\u001b[1m Ai Message \u001b[0m==================================\n",
      "Name: Bot\n",
      "\n",
      "So you said you were looking into CSK?\n",
      "================================\u001b[1m Human Message \u001b[0m=================================\n",
      "Name: Raahul\n",
      "\n",
      "Yes, I know little about the team, Wanna know more\n"
     ]
    }
   ],
   "source": [
    "from pprint import pprint\n",
    "from langchain_core.messages import AIMessage, HumanMessage\n",
    "\n",
    "messages = [AIMessage(f\"So you said you were looking into CSK?\", name=\"Bot\")]\n",
    "messages.append(HumanMessage(f\"Yes, I know little about the team, Wanna know more\", name=\"Raahul\"))\n",
    "\n",
    "for m in messages:\n",
    "    m.pretty_print()"
   ]
  },
  {
   "cell_type": "code",
   "execution_count": 34,
   "id": "e18abf4c",
   "metadata": {},
   "outputs": [
    {
     "data": {
      "text/plain": [
       "AIMessage(content='Sure! Chennai Super Kings (CSK) is a popular franchise in the Indian Premier League (IPL). Here\\'s some information to get you started:\\n\\n**Overview:**\\n- **Founded:** 2008\\n- **Location:** Chennai, Tamil Nadu, India\\n- **Stadium:** M.A. Chidambaram Stadium\\n- **Team Colors:** Yellow and Navy Blue\\n\\n**Achievements:**\\n- **IPL Titles:** 4 (2010, 2011, 2018, 2021)\\n- **Consistent Performers:** Known for their consistency and strong team strategy\\n- **Captain:** Mahendra Singh Dhoni (as of 2023)\\n\\n**Key Players (as of 2023):**\\n- Mahendra Singh Dhoni (Captain)\\n- Ravindra Jadeja\\n- Ruturaj Gaikwad\\n- Deepak Chahar\\n- Moeen Ali\\n\\n**Notable Traits:**\\n- Known for excellent team coordination and strategic gameplay.\\n- Has a loyal fan base called the \"Yellow Army.\"\\n- Managed by CSK Cricket Limited, owned by India Cements.\\n\\nWould you like to know about recent seasons, famous players, or some interesting facts about CSK?', additional_kwargs={'refusal': None}, response_metadata={'token_usage': {'completion_tokens': 243, 'prompt_tokens': 39, 'total_tokens': 282, 'completion_tokens_details': {'accepted_prediction_tokens': 0, 'audio_tokens': 0, 'reasoning_tokens': 0, 'rejected_prediction_tokens': 0}, 'prompt_tokens_details': {'audio_tokens': 0, 'cached_tokens': 0}}, 'model_name': 'gpt-4.1-nano-2025-04-14', 'system_fingerprint': 'fp_eede8f0d45', 'id': 'chatcmpl-BUb42wjrG02ebCLlo5IibHjDJda2O', 'finish_reason': 'stop', 'logprobs': None}, id='run-2b414644-1ea2-4853-b689-ff44aecc51d2-0', usage_metadata={'input_tokens': 39, 'output_tokens': 243, 'total_tokens': 282, 'input_token_details': {'audio': 0, 'cache_read': 0}, 'output_token_details': {'audio': 0, 'reasoning': 0}})"
      ]
     },
     "execution_count": 34,
     "metadata": {},
     "output_type": "execute_result"
    }
   ],
   "source": [
    "from langchain_openai import ChatOpenAI\n",
    "llm = ChatOpenAI(model=\"gpt-4.1-nano\")\n",
    "llm.invoke(messages)"
   ]
  },
  {
   "cell_type": "markdown",
   "id": "7648c821",
   "metadata": {},
   "source": [
    "We can run our chat model in a simple graph with `MessagesState`."
   ]
  },
  {
   "cell_type": "code",
   "execution_count": 35,
   "id": "610d6f6c",
   "metadata": {},
   "outputs": [
    {
     "data": {
      "image/png": "[encoded data removed]",
      "text/plain": [
       "<IPython.core.display.Image object>"
      ]
     },
     "metadata": {},
     "output_type": "display_data"
    }
   ],
   "source": [
    "from IPython.display import Image,display\n",
    "from langgraph.graph import MessagesState\n",
    "from langgraph.graph import StateGraph, START, END\n",
    "\n",
    "# Node\n",
    "def chat_model_node(state: MessagesState):\n",
    "    return{\"messages\": llm.invoke(state[\"messages\"])}\n",
    "\n",
    "# Build graph\n",
    "builder = StateGraph(MessagesState)\n",
    "builder.add_node(\"chat_model\", chat_model_node)\n",
    "builder.add_edge(START, \"chat_model\")\n",
    "builder.add_edge(\"chat_model\", END)\n",
    "\n",
    "# Compile\n",
    "graph = builder.compile()\n",
    "\n",
    "# View\n",
    "display(Image(graph.get_graph().draw_mermaid_png()))"
   ]
  },
  {
   "cell_type": "code",
   "execution_count": 36,
   "id": "aea20cb7",
   "metadata": {},
   "outputs": [
    {
     "name": "stdout",
     "output_type": "stream",
     "text": [
      "==================================\u001b[1m Ai Message \u001b[0m==================================\n",
      "Name: Bot\n",
      "\n",
      "So you said you were looking into CSK?\n",
      "================================\u001b[1m Human Message \u001b[0m=================================\n",
      "Name: Raahul\n",
      "\n",
      "Yes, I know little about the team, Wanna know more\n",
      "==================================\u001b[1m Ai Message \u001b[0m==================================\n",
      "\n",
      "Certainly! Chennai Super Kings (CSK) is one of the most popular and successful franchises in the Indian Premier League (IPL). Here’s some information to get you started:\n",
      "\n",
      "**Overview:**\n",
      "- **Full Name:** Chennai Super Kings\n",
      "- **Founded:** 2008\n",
      "- As of 2023, CSK is one of the oldest teams in the IPL.\n",
      "- **Home Ground:** M. A. Chidambaram Stadium in Chennai, Tamil Nadu\n",
      "- **Team Colors:** Yellow and Blue\n",
      "\n",
      "**Team Highlights:**\n",
      "- **Championships:** CSK has won the IPL title multiple times, making them one of the most successful teams in the league.\n",
      "- **Captain:** Mahendra Singh Dhoni has been the iconic captain for many years, leading the team to numerous victories.\n",
      "- **Key Players:** Besides Dhoni, other notable players include Suresh Raina, Ravindra Jadeja, and Deepak Chahar.\n",
      "- **Style of Play:** CSK is known for its strong batting lineup, strategic fielding, and reliable bowling attack.\n",
      "\n",
      "**History & Achievements:**\n",
      "- CSK has consistently been a top-performing team, reaching the playoffs and finals numerous times.\n",
      "- They won IPL championships in 2010, 2011, 2018, and 2021.\n",
      "- The team was suspended for two seasons (2016 and 2017) but returned strongly afterward.\n",
      "\n",
      "**Fan Base:**\n",
      "- CSK boasts a passionate fan base, often called the “Yellow Army,” that passionately supports the team during matches.\n",
      "\n",
      "**Trivia:**\n",
      "- The team is known for its stability, with Dhoni’s leadership being central to their success.\n",
      "- The team has a reputation for performing well under pressure and clutch moments.\n",
      "\n",
      "Would you like to know about specific players, recent matches, or the team's current season?\n"
     ]
    }
   ],
   "source": [
    "output = graph.invoke({'messages': messages})\n",
    "for m in output[\"messages\"]:\n",
    "    m.pretty_print()"
   ]
  },
  {
   "cell_type": "markdown",
   "id": "78a7fc2f",
   "metadata": {},
   "source": [
    "## Reducer\n",
    "\n",
    "A practical challenge when working with messages is managing long-running conversations. \n",
    "\n",
    "Long-running conversations result in high token usage and latency if we are not careful, because we pass a growing list of messages to the model.\n",
    "\n",
    "We have a few ways to address this.\n",
    "\n",
    "`RemoveMessage` and the `add_messages` reducer."
   ]
  },
  {
   "cell_type": "code",
   "execution_count": 37,
   "id": "0d4e0e4c",
   "metadata": {},
   "outputs": [
    {
     "data": {
      "image/png": "[encoded data removed]",
      "text/plain": [
       "<IPython.core.display.Image object>"
      ]
     },
     "metadata": {},
     "output_type": "display_data"
    }
   ],
   "source": [
    "from langchain_core.messages import RemoveMessage\n",
    "\n",
    "# Nodes\n",
    "def filter_messages(state: MessagesState):\n",
    "    # Delete all but the 2 most recent messages\n",
    "    delete_messages = [RemoveMessage(id=m.id) for m in state['messages'][:-2]]\n",
    "    return {\"messages\": delete_messages}\n",
    "\n",
    "def chat_model_node(state: MessagesState):\n",
    "    return {\"messages\": [llm.invoke(state[\"messages\"])]}\n",
    "\n",
    "# Build Graph\n",
    "builder = StateGraph(MessagesState)\n",
    "builder.add_node(\"filter\", filter_messages)\n",
    "builder.add_node(\"chat_model\", chat_model_node)\n",
    "builder.add_edge(START, \"filter\")\n",
    "builder.add_edge(\"filter\", \"chat_model\")\n",
    "builder.add_edge(\"chat_model\", END)\n",
    "\n",
    "# Compile\n",
    "graph = builder.compile()\n",
    "\n",
    "# View\n",
    "display(Image(graph.get_graph().draw_mermaid_png()))"
   ]
  },
  {
   "cell_type": "code",
   "execution_count": 38,
   "id": "73f49fe7",
   "metadata": {},
   "outputs": [
    {
     "name": "stdout",
     "output_type": "stream",
     "text": [
      "==================================\u001b[1m Ai Message \u001b[0m==================================\n",
      "Name: Bot\n",
      "\n",
      "So you said you were looking into CSK?\n",
      "================================\u001b[1m Human Message \u001b[0m=================================\n",
      "Name: Raahul\n",
      "\n",
      "Yes, I know little about the team, Wanna know more Dhoni\n",
      "==================================\u001b[1m Ai Message \u001b[0m==================================\n",
      "\n",
      "Certainly! M.S. Dhoni, whose full name is Mahendra Singh Dhoni, is a legendary Indian cricketer renowned for his exceptional leadership and finishing skills. Here's some information about him:\n",
      "\n",
      "**Basic Details:**\n",
      "- Full Name: Mahendra Singh Dhoni\n",
      "- Born: July 7, 1981, Ranchi, Jharkhand, India\n",
      "- Role: Wicket-keeper, Batsman\n",
      "- Batting Style: Right-handed\n",
      "- Captaincy: Captain of Chennai Super Kings (CSK) in the Indian Premier League (IPL), and formerly the Indian national team\n",
      "\n",
      "**Career Highlights:**\n",
      "- Known for his calm demeanor and sharp cricketing mind\n",
      "- Led India to numerous successes, including the 2007 ICC T20 World Cup, 2011 ICC Cricket World Cup, and 2013 ICC Champions Trophy\n",
      "- IPL Success: Captain of CSK, leading the team to multiple IPL titles\n",
      "- Awards: Indian Cricketer of the Year (2006), Sir Garfield Sobers Trophy (2011), Rajiv Gandhi Khel Ratna (2007), and several others\n",
      "\n",
      "**Playing Style:**\n",
      "- Renowned for his unorthodox but highly effective batting technique\n",
      "- Exceptional finishers in limited-overs cricket\n",
      "- Skilled wicket-keeper with quick reflexes\n",
      "\n",
      "**Retirement:**\n",
      "- Announced his retirement from International cricket in August 2020\n",
      "- Continues to play and mentor in the IPL with CSK\n",
      "\n",
      "Would you like to know more about his personal life, specific achievements, or his role in CSK?\n"
     ]
    }
   ],
   "source": [
    "messages = [AIMessage(\"Hi.\", name=\"Bot\", id=\"1\")]\n",
    "messages.append(HumanMessage(\"Hi.\", name=\"Raahul\", id=\"2\"))\n",
    "messages.append(AIMessage(f\"So you said you were looking into CSK?\", name=\"Bot\", id=\"3\"))\n",
    "messages.append(HumanMessage(f\"Yes, I know little about the team, Wanna know more Dhoni\", name=\"Raahul\", id=\"4\"))\n",
    "\n",
    "# Invoke\n",
    "output = graph.invoke({'messages': messages})\n",
    "for m in output['messages']:\n",
    "    m.pretty_print()"
   ]
  },
  {
   "cell_type": "markdown",
   "id": "28404fd3",
   "metadata": {},
   "source": [
    "## Filtering messages\n",
    "\n",
    "If you don't need or want to modify the graph state, you can just filter the messages you pass to the chat model.\n",
    "\n",
    "For example, just pass in a filtered list: `llm.invoke(messages[-1:])` to the model."
   ]
  },
  {
   "cell_type": "code",
   "execution_count": 39,
   "id": "d09e7930",
   "metadata": {},
   "outputs": [
    {
     "data": {
      "image/png": "[encoded data removed]",
      "text/plain": [
       "<IPython.core.display.Image object>"
      ]
     },
     "metadata": {},
     "output_type": "display_data"
    }
   ],
   "source": [
    "def chat_model_node(state: MessagesState):\n",
    "    return {\"messages\": [llm.invoke(state[\"messages\"][-1:])]}\n",
    "\n",
    "# Builder graph\n",
    "builder = StateGraph(MessagesState)\n",
    "builder.add_node(\"chat_model\", chat_model_node)\n",
    "builder.add_edge(START, \"chat_model\")\n",
    "builder.add_edge(\"chat_model\", END)\n",
    "\n",
    "# Compile\n",
    "graph = builder.compile()\n",
    "\n",
    "# View\n",
    "display(Image(graph.get_graph(xray=True).draw_mermaid_png()))"
   ]
  },
  {
   "cell_type": "code",
   "execution_count": 40,
   "id": "5f7275a6",
   "metadata": {},
   "outputs": [],
   "source": [
    "messages.append(output[\"messages\"][-1])\n",
    "messages.append(HumanMessage(f\"Tell me more about Suresh Raina\", name=\"Raahul\"))"
   ]
  },
  {
   "cell_type": "code",
   "execution_count": 41,
   "id": "1d1ea82a",
   "metadata": {},
   "outputs": [
    {
     "name": "stdout",
     "output_type": "stream",
     "text": [
      "==================================\u001b[1m Ai Message \u001b[0m==================================\n",
      "Name: Bot\n",
      "\n",
      "Hi.\n",
      "================================\u001b[1m Human Message \u001b[0m=================================\n",
      "Name: Raahul\n",
      "\n",
      "Hi.\n",
      "==================================\u001b[1m Ai Message \u001b[0m==================================\n",
      "Name: Bot\n",
      "\n",
      "So you said you were looking into CSK?\n",
      "================================\u001b[1m Human Message \u001b[0m=================================\n",
      "Name: Raahul\n",
      "\n",
      "Yes, I know little about the team, Wanna know more Dhoni\n",
      "==================================\u001b[1m Ai Message \u001b[0m==================================\n",
      "\n",
      "Certainly! M.S. Dhoni, whose full name is Mahendra Singh Dhoni, is a legendary Indian cricketer renowned for his exceptional leadership and finishing skills. Here's some information about him:\n",
      "\n",
      "**Basic Details:**\n",
      "- Full Name: Mahendra Singh Dhoni\n",
      "- Born: July 7, 1981, Ranchi, Jharkhand, India\n",
      "- Role: Wicket-keeper, Batsman\n",
      "- Batting Style: Right-handed\n",
      "- Captaincy: Captain of Chennai Super Kings (CSK) in the Indian Premier League (IPL), and formerly the Indian national team\n",
      "\n",
      "**Career Highlights:**\n",
      "- Known for his calm demeanor and sharp cricketing mind\n",
      "- Led India to numerous successes, including the 2007 ICC T20 World Cup, 2011 ICC Cricket World Cup, and 2013 ICC Champions Trophy\n",
      "- IPL Success: Captain of CSK, leading the team to multiple IPL titles\n",
      "- Awards: Indian Cricketer of the Year (2006), Sir Garfield Sobers Trophy (2011), Rajiv Gandhi Khel Ratna (2007), and several others\n",
      "\n",
      "**Playing Style:**\n",
      "- Renowned for his unorthodox but highly effective batting technique\n",
      "- Exceptional finishers in limited-overs cricket\n",
      "- Skilled wicket-keeper with quick reflexes\n",
      "\n",
      "**Retirement:**\n",
      "- Announced his retirement from International cricket in August 2020\n",
      "- Continues to play and mentor in the IPL with CSK\n",
      "\n",
      "Would you like to know more about his personal life, specific achievements, or his role in CSK?\n",
      "================================\u001b[1m Human Message \u001b[0m=================================\n",
      "Name: Raahul\n",
      "\n",
      "Tell me more about Suresh Raina\n"
     ]
    }
   ],
   "source": [
    "for m in messages:\n",
    "    m.pretty_print()"
   ]
  },
  {
   "cell_type": "code",
   "execution_count": 42,
   "id": "ba3be762",
   "metadata": {},
   "outputs": [
    {
     "name": "stdout",
     "output_type": "stream",
     "text": [
      "==================================\u001b[1m Ai Message \u001b[0m==================================\n",
      "Name: Bot\n",
      "\n",
      "Hi.\n",
      "================================\u001b[1m Human Message \u001b[0m=================================\n",
      "Name: Raahul\n",
      "\n",
      "Hi.\n",
      "==================================\u001b[1m Ai Message \u001b[0m==================================\n",
      "Name: Bot\n",
      "\n",
      "So you said you were looking into CSK?\n",
      "================================\u001b[1m Human Message \u001b[0m=================================\n",
      "Name: Raahul\n",
      "\n",
      "Yes, I know little about the team, Wanna know more Dhoni\n",
      "==================================\u001b[1m Ai Message \u001b[0m==================================\n",
      "\n",
      "Certainly! M.S. Dhoni, whose full name is Mahendra Singh Dhoni, is a legendary Indian cricketer renowned for his exceptional leadership and finishing skills. Here's some information about him:\n",
      "\n",
      "**Basic Details:**\n",
      "- Full Name: Mahendra Singh Dhoni\n",
      "- Born: July 7, 1981, Ranchi, Jharkhand, India\n",
      "- Role: Wicket-keeper, Batsman\n",
      "- Batting Style: Right-handed\n",
      "- Captaincy: Captain of Chennai Super Kings (CSK) in the Indian Premier League (IPL), and formerly the Indian national team\n",
      "\n",
      "**Career Highlights:**\n",
      "- Known for his calm demeanor and sharp cricketing mind\n",
      "- Led India to numerous successes, including the 2007 ICC T20 World Cup, 2011 ICC Cricket World Cup, and 2013 ICC Champions Trophy\n",
      "- IPL Success: Captain of CSK, leading the team to multiple IPL titles\n",
      "- Awards: Indian Cricketer of the Year (2006), Sir Garfield Sobers Trophy (2011), Rajiv Gandhi Khel Ratna (2007), and several others\n",
      "\n",
      "**Playing Style:**\n",
      "- Renowned for his unorthodox but highly effective batting technique\n",
      "- Exceptional finishers in limited-overs cricket\n",
      "- Skilled wicket-keeper with quick reflexes\n",
      "\n",
      "**Retirement:**\n",
      "- Announced his retirement from International cricket in August 2020\n",
      "- Continues to play and mentor in the IPL with CSK\n",
      "\n",
      "Would you like to know more about his personal life, specific achievements, or his role in CSK?\n",
      "================================\u001b[1m Human Message \u001b[0m=================================\n",
      "Name: Raahul\n",
      "\n",
      "Tell me more about Suresh Raina\n",
      "==================================\u001b[1m Ai Message \u001b[0m==================================\n",
      "\n",
      "Sure! Suresh Raina is a renowned Indian cricketer known for his exceptional batting skills and versatility on the field. Born on November 27, 1986, in Muradnagar, Uttar Pradesh, Raina has made significant contributions to Indian cricket, especially in limited-overs formats.\n",
      "\n",
      "**Career Highlights:**\n",
      "- **International Debut:** Raina made his Test debut in 2010 and his One Day International (ODI) debut in 2005.\n",
      "- **Playing Role:** Left-handed batsman and a capable part-time off-spin bowler.\n",
      "- **Achievements:**\n",
      "  - Raina has been one of India's most consistent middle-order batsmen.\n",
      "  - He is one of the highest run-scorers for India in ODIs, with over 5,000 runs.\n",
      "  - Known for his aggressive batting style and ability to stabilize the innings.\n",
      "- **Indian Premier League (IPL):** Raina has been a key player for Chennai Super Kings (CSK) since the inception of the IPL in 2008. He has scored over 5,000 runs for CSK and is one of the franchise’s most valuable players.\n",
      "\n",
      "**Personal & Post-Retirement:**\n",
      "- Raina announced his retirement from international cricket in August 2020, though he continued playing in the IPL until his recent departure.\n",
      "- Off the field, he is involved in charity work and cricket coaching.\n",
      "\n",
      "**Notable Traits:**\n",
      "- Known as \"Mr. IPL\" for his incredible performances in the league.\n",
      "- Celebrated for his agility in the field and sharp cricketing mind.\n",
      "\n",
      "Would you like to know more specific details about his stats, career milestones, or personal life?\n"
     ]
    }
   ],
   "source": [
    "# Invoke\n",
    "output = graph.invoke({\"messages\": messages})\n",
    "for m in output[\"messages\"]:\n",
    "    m.pretty_print()"
   ]
  },
  {
   "cell_type": "markdown",
   "id": "93be0646",
   "metadata": {},
   "source": [
    "## Trim messages\n",
    "\n",
    "Another approach is to [trim messages](https://python.langchain.com/v0.2/docs/how_to/trim_messages/#getting-the-last-max_tokens-tokens), based upon a set number of tokens. \n",
    "\n",
    "This restricts the message history to a specified number of tokens.\n",
    "\n",
    "While filtering only returns a post-hoc subset of the messages between agents, trimming restricts the number of tokens that a chat model can use to respond.\n",
    "\n",
    "See the `trim_messages` below."
   ]
  },
  {
   "cell_type": "code",
   "execution_count": 43,
   "id": "26fd23fb",
   "metadata": {},
   "outputs": [
    {
     "data": {
      "image/png": "[encoded data removed]",
      "text/plain": [
       "<IPython.core.display.Image object>"
      ]
     },
     "metadata": {},
     "output_type": "display_data"
    }
   ],
   "source": [
    "from langchain_core.messages import trim_messages\n",
    "\n",
    "# Node\n",
    "def chat_model_node(state: MessagesState):\n",
    "    messages = trim_messages(\n",
    "        state['messages'],\n",
    "        max_tokens=100,\n",
    "        strategy='last',\n",
    "        token_counter=ChatOpenAI(model=\"gpt-4\"),\n",
    "        allow_partial=False\n",
    "    )\n",
    "\n",
    "    return {'messages': [llm.invoke(messages)]}\n",
    "\n",
    "# Build graph\n",
    "builder = StateGraph(MessagesState)\n",
    "builder.add_node(\"chat_model\", chat_model_node)\n",
    "builder.add_edge(START, \"chat_model\")\n",
    "builder.add_edge(\"chat_model\", END)\n",
    "\n",
    "# Compile\n",
    "graph = builder.compile()\n",
    "\n",
    "# View\n",
    "display(Image(graph.get_graph().draw_mermaid_png()))"
   ]
  },
  {
   "cell_type": "code",
   "execution_count": 44,
   "id": "a5b93a5b",
   "metadata": {},
   "outputs": [],
   "source": [
    "messages.append(output['messages'][-1])\n",
    "messages.append(HumanMessage(f\"Tell me about csk head coaches\", name=\"Raahul\"))"
   ]
  },
  {
   "cell_type": "code",
   "execution_count": 45,
   "id": "23ff9e4e",
   "metadata": {},
   "outputs": [
    {
     "data": {
      "text/plain": [
       "[HumanMessage(content='Tell me about csk head coaches', additional_kwargs={}, response_metadata={}, name='Raahul')]"
      ]
     },
     "execution_count": 45,
     "metadata": {},
     "output_type": "execute_result"
    }
   ],
   "source": [
    "trim_messages(\n",
    "    messages,\n",
    "    max_tokens=100,\n",
    "    strategy=\"last\",\n",
    "    token_counter=ChatOpenAI(model=\"gpt-4\"),\n",
    "    allow_partial=False\n",
    ")"
   ]
  },
  {
   "cell_type": "code",
   "execution_count": 46,
   "id": "a230021d",
   "metadata": {},
   "outputs": [],
   "source": [
    "messages_out_trim = graph.invoke({'messages': messages})"
   ]
  },
  {
   "cell_type": "code",
   "execution_count": 47,
   "id": "d6aec2a1",
   "metadata": {},
   "outputs": [
    {
     "name": "stdout",
     "output_type": "stream",
     "text": [
      "==================================\u001b[1m Ai Message \u001b[0m==================================\n",
      "Name: Bot\n",
      "\n",
      "Hi.\n",
      "================================\u001b[1m Human Message \u001b[0m=================================\n",
      "Name: Raahul\n",
      "\n",
      "Hi.\n",
      "==================================\u001b[1m Ai Message \u001b[0m==================================\n",
      "Name: Bot\n",
      "\n",
      "So you said you were looking into CSK?\n",
      "================================\u001b[1m Human Message \u001b[0m=================================\n",
      "Name: Raahul\n",
      "\n",
      "Yes, I know little about the team, Wanna know more Dhoni\n",
      "==================================\u001b[1m Ai Message \u001b[0m==================================\n",
      "\n",
      "Certainly! M.S. Dhoni, whose full name is Mahendra Singh Dhoni, is a legendary Indian cricketer renowned for his exceptional leadership and finishing skills. Here's some information about him:\n",
      "\n",
      "**Basic Details:**\n",
      "- Full Name: Mahendra Singh Dhoni\n",
      "- Born: July 7, 1981, Ranchi, Jharkhand, India\n",
      "- Role: Wicket-keeper, Batsman\n",
      "- Batting Style: Right-handed\n",
      "- Captaincy: Captain of Chennai Super Kings (CSK) in the Indian Premier League (IPL), and formerly the Indian national team\n",
      "\n",
      "**Career Highlights:**\n",
      "- Known for his calm demeanor and sharp cricketing mind\n",
      "- Led India to numerous successes, including the 2007 ICC T20 World Cup, 2011 ICC Cricket World Cup, and 2013 ICC Champions Trophy\n",
      "- IPL Success: Captain of CSK, leading the team to multiple IPL titles\n",
      "- Awards: Indian Cricketer of the Year (2006), Sir Garfield Sobers Trophy (2011), Rajiv Gandhi Khel Ratna (2007), and several others\n",
      "\n",
      "**Playing Style:**\n",
      "- Renowned for his unorthodox but highly effective batting technique\n",
      "- Exceptional finishers in limited-overs cricket\n",
      "- Skilled wicket-keeper with quick reflexes\n",
      "\n",
      "**Retirement:**\n",
      "- Announced his retirement from International cricket in August 2020\n",
      "- Continues to play and mentor in the IPL with CSK\n",
      "\n",
      "Would you like to know more about his personal life, specific achievements, or his role in CSK?\n",
      "================================\u001b[1m Human Message \u001b[0m=================================\n",
      "Name: Raahul\n",
      "\n",
      "Tell me more about Suresh Raina\n",
      "==================================\u001b[1m Ai Message \u001b[0m==================================\n",
      "\n",
      "Sure! Suresh Raina is a renowned Indian cricketer known for his exceptional batting skills and versatility on the field. Born on November 27, 1986, in Muradnagar, Uttar Pradesh, Raina has made significant contributions to Indian cricket, especially in limited-overs formats.\n",
      "\n",
      "**Career Highlights:**\n",
      "- **International Debut:** Raina made his Test debut in 2010 and his One Day International (ODI) debut in 2005.\n",
      "- **Playing Role:** Left-handed batsman and a capable part-time off-spin bowler.\n",
      "- **Achievements:**\n",
      "  - Raina has been one of India's most consistent middle-order batsmen.\n",
      "  - He is one of the highest run-scorers for India in ODIs, with over 5,000 runs.\n",
      "  - Known for his aggressive batting style and ability to stabilize the innings.\n",
      "- **Indian Premier League (IPL):** Raina has been a key player for Chennai Super Kings (CSK) since the inception of the IPL in 2008. He has scored over 5,000 runs for CSK and is one of the franchise’s most valuable players.\n",
      "\n",
      "**Personal & Post-Retirement:**\n",
      "- Raina announced his retirement from international cricket in August 2020, though he continued playing in the IPL until his recent departure.\n",
      "- Off the field, he is involved in charity work and cricket coaching.\n",
      "\n",
      "**Notable Traits:**\n",
      "- Known as \"Mr. IPL\" for his incredible performances in the league.\n",
      "- Celebrated for his agility in the field and sharp cricketing mind.\n",
      "\n",
      "Would you like to know more specific details about his stats, career milestones, or personal life?\n",
      "================================\u001b[1m Human Message \u001b[0m=================================\n",
      "Name: Raahul\n",
      "\n",
      "Tell me about csk head coaches\n",
      "==================================\u001b[1m Ai Message \u001b[0m==================================\n",
      "\n",
      "As of October 2023, the Chennai Super Kings (CSK), a prominent team in the Indian Premier League (IPL), have been primarily coached by Stephen Fleming.  \n",
      "\n",
      "**Stephen Fleming**  \n",
      "- Nationality: New Zealand  \n",
      "- Role: Head Coach of CSK  \n",
      "- Tenure: Since 2009 (with some breaks)  \n",
      "- Contributions: Fleming is credited with helping shape CSK's strategic approach and fostering a strong team culture. His leadership has been a key factor in their multiple IPL titles.  \n",
      "\n",
      "While Fleming has been the main coach for most of CSK’s recent history, the team has also had support staff and assistant coaches who have contributed to their success over the years.  \n",
      "\n",
      "Please note that coaching roles can evolve, so for the most up-to-date information, it's good to check the latest from official CSK sources or recent news.\n"
     ]
    }
   ],
   "source": [
    "for m in messages_out_trim['messages']:\n",
    "    m.pretty_print()"
   ]
  },
  {
   "cell_type": "markdown",
   "id": "a898c894",
   "metadata": {},
   "source": [
    "# Chatbot with message summarization"
   ]
  },
  {
   "cell_type": "markdown",
   "id": "7c8abef5",
   "metadata": {},
   "source": [
    "Goals\n",
    "\n",
    "- Using the llm to produce a running summary of the conversation\n",
    "This allows us to retain a compressed representation of the full conversation, rather than just removing it with trimming or filering \n",
    "\n",
    "- And, will equip the Chatbot with memory, supporting long-running conversations without incurring high token cost / latency "
   ]
  },
  {
   "cell_type": "code",
   "execution_count": 48,
   "id": "b95d0e23",
   "metadata": {},
   "outputs": [],
   "source": [
    "from langchain_openai import ChatOpenAI\n",
    "\n",
    "model = ChatOpenAI(model=\"gpt-4.1-nano\", temperature=0)"
   ]
  },
  {
   "cell_type": "code",
   "execution_count": 49,
   "id": "b3402026",
   "metadata": {},
   "outputs": [],
   "source": [
    "from langgraph.graph import MessagesState\n",
    "from langchain_core.messages import SystemMessage, HumanMessage, RemoveMessage\n",
    "\n",
    "class State(MessagesState):\n",
    "    summary : str\n",
    "\n",
    "def call_node(state: State):\n",
    "\n",
    "    summary = state.get(\"summary\", \"\")\n",
    "\n",
    "    if summary:\n",
    "\n",
    "        system_message = f\"Summary of conversation earlier: {summary}\"\n",
    "\n",
    "        messages = [SystemMessage(content=system_message)] + state[\"messages\"]\n",
    "\n",
    "    else:\n",
    "        messages = state[\"messages\"]\n",
    "    \n",
    "    response = model.invoke(messages)\n",
    "    return {\"messages\": response}"
   ]
  },
  {
   "cell_type": "code",
   "execution_count": 50,
   "id": "913fce32",
   "metadata": {},
   "outputs": [],
   "source": [
    "def summarize_conversation(state: State):\n",
    "\n",
    "    summary = state.get(\"summary\", \"\")\n",
    "\n",
    "    # Create our summarization prompt\n",
    "    if summary:\n",
    "\n",
    "        # A summary already exists\n",
    "        summary_message = (\n",
    "            f\"This is summary of the conversation to date: {summary}\\n\\n\"\n",
    "            \"Extend the summary by taking into account the new messages above:\"\n",
    "        )\n",
    "\n",
    "    else:\n",
    "        summary_message = \"Creating a summary of the conversation above:\"\n",
    "\n",
    "    # Adding prompt to history \n",
    "    messages = state[\"messages\"] + [HumanMessage(content=summary_message)]\n",
    "    response = model.invoke(messages)\n",
    "\n",
    "    delete_messages = [RemoveMessage(id=m.id) for m in state[\"messages\"][:-2]]\n",
    "    return {\"summary\": response.content, \"messages\": delete_messages}"
   ]
  },
  {
   "cell_type": "markdown",
   "id": "ab760357",
   "metadata": {},
   "source": [
    "Adding a conditional edge to determine whether to produce a summary based on the conversation length."
   ]
  },
  {
   "cell_type": "code",
   "execution_count": 51,
   "id": "10deaa73",
   "metadata": {},
   "outputs": [],
   "source": [
    "from langgraph.graph import END\n",
    "def should_continue(state: State):\n",
    "    \n",
    "    \"\"\"Return the next node to execute.\"\"\"\n",
    "    \n",
    "    messages = state[\"messages\"]\n",
    "    \n",
    "    # If there are more than six messages, then we summarize the conversation\n",
    "    if len(messages) > 6:\n",
    "        return \"summarize_conversation\"\n",
    "    \n",
    "    return END"
   ]
  },
  {
   "cell_type": "code",
   "execution_count": 52,
   "id": "ffbe3116",
   "metadata": {},
   "outputs": [
    {
     "data": {
      "image/png": "[encoded data removed]",
      "text/plain": [
       "<IPython.core.display.Image object>"
      ]
     },
     "metadata": {},
     "output_type": "display_data"
    }
   ],
   "source": [
    "from IPython.display import Image, display\n",
    "from langgraph.checkpoint.memory import MemorySaver\n",
    "from langgraph.graph import StateGraph, START, END\n",
    "\n",
    "workflow = StateGraph(State)\n",
    "workflow.add_node(\"conversation\", call_node)\n",
    "workflow.add_node(summarize_conversation)\n",
    "# workflow.add_node(should_continue)\n",
    "workflow.add_edge(START, \"conversation\")\n",
    "workflow.add_conditional_edges(\"conversation\", should_continue)\n",
    "workflow.add_edge(\"summarize_conversation\", END)\n",
    "\n",
    "memory = MemorySaver()\n",
    "graph = workflow.compile(checkpointer=memory)\n",
    "\n",
    "# View\n",
    "display(Image(graph.get_graph(xray=True).draw_mermaid_png()))"
   ]
  },
  {
   "cell_type": "markdown",
   "id": "20e1b55a",
   "metadata": {},
   "source": [
    "## Threads\n",
    "\n",
    "The checkpointer saves the state at each step as a checkpoint.\n",
    "\n",
    "These saved checkpoints can be grouped into a `thread` of conversation.\n",
    "\n",
    "Think about Slack as an analog: different channels carry different conversations.\n",
    "\n",
    "Threads are like Slack channels, capturing grouped collections of state (e.g., conversation).\n",
    "\n",
    "Below, we use `configurable` to set a thread ID.\n",
    "\n",
    "![state.jpg](https://cdn.prod.website-files.com/65b8cd72835ceeacd4449a53/66dbadf3b379c2ee621adfd1_chatbot-summarization1.png)"
   ]
  },
  {
   "cell_type": "code",
   "execution_count": 53,
   "id": "08f9472d",
   "metadata": {},
   "outputs": [
    {
     "name": "stdout",
     "output_type": "stream",
     "text": [
      "==================================\u001b[1m Ai Message \u001b[0m==================================\n",
      "\n",
      "Hello, Raahul! Nice to meet you. How can I assist you today?\n",
      "==================================\u001b[1m Ai Message \u001b[0m==================================\n",
      "\n",
      "Your name is Raahul.\n",
      "==================================\u001b[1m Ai Message \u001b[0m==================================\n",
      "\n",
      "That's great! Chennai Super Kings (CSK) is a popular and successful cricket team. Do you have a favorite player or a memorable moment from their matches?\n"
     ]
    }
   ],
   "source": [
    "# Create a thread\n",
    "config = {\"configurable\": {\"thread_id\": \"1\"}}\n",
    "\n",
    "# Conversation\n",
    "input_messages = HumanMessage(content=\"Hi!, I'm Raahul\")\n",
    "output = graph.invoke({\"messages\": [input_messages]}, config)\n",
    "\n",
    "for m in output['messages'][-1:]:\n",
    "    m.pretty_print()\n",
    "\n",
    "input_message = HumanMessage(content=\"what's my name?\")\n",
    "output = graph.invoke({\"messages\": [input_message]}, config) \n",
    "for m in output['messages'][-1:]:\n",
    "    m.pretty_print()\n",
    "\n",
    "input_message = HumanMessage(content=\"i like the CSK!\")\n",
    "output = graph.invoke({\"messages\": [input_message]}, config) \n",
    "for m in output['messages'][-1:]:\n",
    "    m.pretty_print()"
   ]
  },
  {
   "cell_type": "markdown",
   "id": "efb9dc3a",
   "metadata": {},
   "source": [
    "Now, we don't yet have a summary of the state because we still have < = 6 messages.\n",
    "\n",
    "This was set in `should_continue`. \n",
    "\n",
    "```\n",
    "    # If there are more than six messages, then we summarize the conversation\n",
    "    if len(messages) > 6:\n",
    "        return \"summarize_conversation\"\n",
    "```\n",
    "\n",
    "We can pick up the conversation because we have the thread."
   ]
  },
  {
   "cell_type": "code",
   "execution_count": 54,
   "id": "7279a134",
   "metadata": {},
   "outputs": [
    {
     "data": {
      "text/plain": [
       "''"
      ]
     },
     "execution_count": 54,
     "metadata": {},
     "output_type": "execute_result"
    }
   ],
   "source": [
    "graph.get_state(config).values.get(\"summary\",\"\")"
   ]
  },
  {
   "cell_type": "code",
   "execution_count": 55,
   "id": "3584cbb7",
   "metadata": {},
   "outputs": [
    {
     "name": "stdout",
     "output_type": "stream",
     "text": [
      "==================================\u001b[1m Ai Message \u001b[0m==================================\n",
      "\n",
      "Excellent choice! MS Dhoni, aka Thala, is truly legendary—known for his calm demeanor, incredible finishing skills, and leadership. Do you have a favorite Dhoni moment or match?\n"
     ]
    }
   ],
   "source": [
    "input_message = HumanMessage(content=\"My favorite player is MS Dhoni aka Thala\")\n",
    "output = graph.invoke({\"messages\": [input_message]}, config) \n",
    "for m in output['messages'][-1:]:\n",
    "    m.pretty_print()"
   ]
  },
  {
   "cell_type": "code",
   "execution_count": 56,
   "id": "99778be4",
   "metadata": {},
   "outputs": [
    {
     "name": "stdout",
     "output_type": "stream",
     "text": [
      "==================================\u001b[1m Ai Message \u001b[0m==================================\n",
      "\n",
      "Absolutely! Dhoni is renowned for his lightning-fast stumpings and cool-headed finishes, especially in high-pressure situations like the last ball of a match. His quick reflexes and sharp wicket-keeping skills have made some of the most memorable moments in cricket history. Do you have a favorite stumping or match where Dhoni's quickness stood out?\n"
     ]
    }
   ],
   "source": [
    "input_message = HumanMessage(content=\"All the lighting fast stumping to last ball sizers\")\n",
    "output = graph.invoke({\"messages\": [input_message]}, config) \n",
    "for m in output['messages'][-1:]:\n",
    "    m.pretty_print()"
   ]
  },
  {
   "cell_type": "code",
   "execution_count": 57,
   "id": "27142c0a",
   "metadata": {},
   "outputs": [
    {
     "data": {
      "text/plain": [
       "\"Sure! Here's a summary of our conversation:\\n\\nYou introduced yourself as Raahul and mentioned that you like CSK. You shared that your favorite player is MS Dhoni, also known as Thala. I responded by acknowledging his legendary status and asked if you have a favorite Dhoni moment or match.\""
      ]
     },
     "execution_count": 57,
     "metadata": {},
     "output_type": "execute_result"
    }
   ],
   "source": [
    "graph.get_state(config).values.get(\"summary\",\"\")"
   ]
  },
  {
   "cell_type": "markdown",
   "id": "3943c79a",
   "metadata": {},
   "source": [
    "# Chatbot with message summarizaton & external DB memory"
   ]
  },
  {
   "cell_type": "markdown",
   "id": "92aede5e",
   "metadata": {},
   "source": [
    "Goals\n",
    "\n",
    "But, what if we want our Chatbot to have memory that persists indefinitely?\n",
    "\n",
    "Now, we'll introduce some more advanced checkpointers that support external databases. \n",
    "\n",
    "Here, we'll show how to use [Sqlite as a checkpointer](https://langchain-ai.github.io/langgraph/concepts/low_level/#checkpointer), but other checkpointers, such as [Postgres](https://langchain-ai.github.io/langgraph/how-tos/persistence_postgres/) are available!"
   ]
  },
  {
   "cell_type": "markdown",
   "id": "38872c0c",
   "metadata": {},
   "source": [
    "## Sqlite\n",
    "\n",
    "Resource for  [SqliteSaver checkpointer](https://langchain-ai.github.io/langgraph/concepts/low_level/#checkpointer).\n",
    "\n",
    "Sqlite is a [small, fast, highly popular](https://x.com/karpathy/status/1819490455664685297) SQL database. \n",
    " \n",
    "If we supply `\":memory:\"` it creates an in-memory Sqlite database."
   ]
  },
  {
   "cell_type": "code",
   "execution_count": 58,
   "id": "016139ff",
   "metadata": {},
   "outputs": [],
   "source": [
    "import sqlite3\n",
    "\n",
    "conn = sqlite3.connect(\":memory:\", check_same_thread = False)"
   ]
  },
  {
   "cell_type": "code",
   "execution_count": 59,
   "id": "cdb2c927",
   "metadata": {},
   "outputs": [],
   "source": [
    "# !mkdir -p state_db && [ ! -f state_db/example.db ] && wget -P state_db https://github.com/langchain-ai/langchain-academy/raw/main/module-2/state_db/example.db\n",
    "\n",
    "db_path = \"state_db/example.db\"\n",
    "conn = sqlite3.connect(db_path, check_same_thread=False)"
   ]
  },
  {
   "cell_type": "code",
   "execution_count": 60,
   "id": "ba1781a6",
   "metadata": {},
   "outputs": [],
   "source": [
    "from langgraph.checkpoint.sqlite import SqliteSaver\n",
    "memory = SqliteSaver(conn)"
   ]
  },
  {
   "cell_type": "code",
   "execution_count": 61,
   "id": "eb0fc5ec",
   "metadata": {},
   "outputs": [],
   "source": [
    "from langchain_openai import ChatOpenAI\n",
    "from langchain_core.messages import SystemMessage, HumanMessage, AIMessage, RemoveMessage\n",
    "\n",
    "from langgraph.graph import START, MessagesState, END, StateGraph\n",
    "\n",
    "model = ChatOpenAI(model='gpt-4.1-nano', temperature=0)\n",
    "\n",
    "class State(MessagesState):\n",
    "    summary: str\n",
    "\n",
    "def call_model(state: State):\n",
    "\n",
    "    summary = state.get(\"summary\", \"\")\n",
    "\n",
    "    if summary:\n",
    "\n",
    "        system_message = f\"Summary of conversation earlier: {summary}\"\n",
    "\n",
    "        messages = [SystemMessage(content=system_message)] + state[\"messages\"]\n",
    "\n",
    "    else:\n",
    "        messages = state[\"messages\"]\n",
    "\n",
    "    response = model.invoke(messages)\n",
    "    return {\"messages\": response}\n",
    "\n",
    "def summarize_conversation(state: State):\n",
    "\n",
    "    summary = state.get(\"summary\", \"\")\n",
    "\n",
    "    if summary:\n",
    "\n",
    "        summary_message = (\n",
    "            f\"This is summary of the conversation to date: {summary}\\n \\n\"\n",
    "            \"Extend the summary by talking into account the new messages above: \"\n",
    "        )\n",
    "\n",
    "    else:\n",
    "        summary_message = \"Create a summary of the conversation above:\"\n",
    "\n",
    "    messages = state[\"messages\"] + [HumanMessage(content=summary_message)]\n",
    "    response = model.invoke(messages)\n",
    "\n",
    "    delete_messages = [RemoveMessage(id=m.id) for m in state[\"messages\"][:-2]]\n",
    "    return {\"summary\": response.content, \"messages\": delete_messages}\n",
    "\n",
    "def should_continue(state:State):\n",
    "\n",
    "    messages = state[\"messages\"]\n",
    "\n",
    "    if len(messages) > 6:\n",
    "        return \"summarize_conversation\"\n",
    "    \n",
    "    return END"
   ]
  },
  {
   "cell_type": "code",
   "execution_count": 62,
   "id": "181662d6",
   "metadata": {},
   "outputs": [
    {
     "data": {
      "image/png": "[encoded data removed]",
      "text/plain": [
       "<IPython.core.display.Image object>"
      ]
     },
     "metadata": {},
     "output_type": "display_data"
    }
   ],
   "source": [
    "from IPython.display import Image, display\n",
    "\n",
    "workflow = StateGraph(State)\n",
    "workflow.add_node(\"conversation\", call_model)\n",
    "workflow.add_node(summarize_conversation)\n",
    "\n",
    "workflow.add_edge(START, \"conversation\")\n",
    "workflow.add_conditional_edges(\"conversation\", should_continue)\n",
    "workflow.add_edge(\"summarize_conversation\", END)\n",
    "\n",
    "graph = workflow.compile(checkpointer=memory)\n",
    "display(Image(graph.get_graph(xray=True).draw_mermaid_png()))"
   ]
  },
  {
   "cell_type": "code",
   "execution_count": 63,
   "id": "98051e09",
   "metadata": {},
   "outputs": [
    {
     "name": "stdout",
     "output_type": "stream",
     "text": [
      "==================================\u001b[1m Ai Message \u001b[0m==================================\n",
      "\n",
      "Hello again, Raahul! How can I assist you today?\n",
      "==================================\u001b[1m Ai Message \u001b[0m==================================\n",
      "\n",
      "Your name is Raahul. How can I help you today?\n",
      "==================================\u001b[1m Ai Message \u001b[0m==================================\n",
      "\n",
      "That's great! Chennai Super Kings are a popular and successful cricket team. Do you have a favorite player or a memorable match you'd like to talk about?\n"
     ]
    }
   ],
   "source": [
    "# Create a thread\n",
    "config = {\"configurable\": {\"thread_id\": \"1\"}}\n",
    "\n",
    "# Start conversation\n",
    "input_message = HumanMessage(content=\"hi! I'm Raahul\")\n",
    "output = graph.invoke({\"messages\": [input_message]}, config) \n",
    "for m in output['messages'][-1:]:\n",
    "    m.pretty_print()\n",
    "\n",
    "input_message = HumanMessage(content=\"what's my name?\")\n",
    "output = graph.invoke({\"messages\": [input_message]}, config) \n",
    "for m in output['messages'][-1:]:\n",
    "    m.pretty_print()\n",
    "\n",
    "input_message = HumanMessage(content=\"i like the Chennai Super Kings!\")\n",
    "output = graph.invoke({\"messages\": [input_message]}, config) \n",
    "for m in output['messages'][-1:]:\n",
    "    m.pretty_print()"
   ]
  },
  {
   "cell_type": "code",
   "execution_count": 64,
   "id": "a4f14160",
   "metadata": {},
   "outputs": [
    {
     "data": {
      "text/plain": [
       "StateSnapshot(values={'messages': [HumanMessage(content=\"hi! I'm Raahul\", additional_kwargs={}, response_metadata={}, id='4c5f795d-623e-4e51-8618-9b482192a4b4'), AIMessage(content='Hello again, Raahul! How can I assist you today?', additional_kwargs={'refusal': None}, response_metadata={'token_usage': {'completion_tokens': 15, 'prompt_tokens': 269, 'total_tokens': 284, 'completion_tokens_details': {'accepted_prediction_tokens': 0, 'audio_tokens': 0, 'reasoning_tokens': 0, 'rejected_prediction_tokens': 0}, 'prompt_tokens_details': {'audio_tokens': 0, 'cached_tokens': 0}}, 'model_name': 'gpt-4.1-nano-2025-04-14', 'system_fingerprint': 'fp_eede8f0d45', 'id': 'chatcmpl-BUb4aDdayx4ODBW7NEbafuAS5gWVM', 'finish_reason': 'stop', 'logprobs': None}, id='run-f14f754a-2161-4404-86b6-a85e0062bd1d-0', usage_metadata={'input_tokens': 269, 'output_tokens': 15, 'total_tokens': 284, 'input_token_details': {'audio': 0, 'cache_read': 0}, 'output_token_details': {'audio': 0, 'reasoning': 0}}), HumanMessage(content=\"what's my name?\", additional_kwargs={}, response_metadata={}, id='ad82fd8e-967f-4880-ae91-ca368c873918'), AIMessage(content='Your name is Raahul. How can I help you today?', additional_kwargs={'refusal': None}, response_metadata={'token_usage': {'completion_tokens': 15, 'prompt_tokens': 243, 'total_tokens': 258, 'completion_tokens_details': {'accepted_prediction_tokens': 0, 'audio_tokens': 0, 'reasoning_tokens': 0, 'rejected_prediction_tokens': 0}, 'prompt_tokens_details': {'audio_tokens': 0, 'cached_tokens': 0}}, 'model_name': 'gpt-4.1-nano-2025-04-14', 'system_fingerprint': 'fp_8fd43718b3', 'id': 'chatcmpl-BUb4dqnbWFsLN3HvfCrRo0DgUDAVG', 'finish_reason': 'stop', 'logprobs': None}, id='run-8e73cfc0-c3d3-4602-bbae-42a6ba44e0c0-0', usage_metadata={'input_tokens': 243, 'output_tokens': 15, 'total_tokens': 258, 'input_token_details': {'audio': 0, 'cache_read': 0}, 'output_token_details': {'audio': 0, 'reasoning': 0}}), HumanMessage(content='i like the Chennai Super Kings!', additional_kwargs={}, response_metadata={}, id='e47e92fc-5890-421b-bcbb-6d124e4d9520'), AIMessage(content=\"That's great! Chennai Super Kings are a popular and successful cricket team. Do you have a favorite player or a memorable match you'd like to talk about?\", additional_kwargs={'refusal': None}, response_metadata={'token_usage': {'completion_tokens': 31, 'prompt_tokens': 272, 'total_tokens': 303, 'completion_tokens_details': {'accepted_prediction_tokens': 0, 'audio_tokens': 0, 'reasoning_tokens': 0, 'rejected_prediction_tokens': 0}, 'prompt_tokens_details': {'audio_tokens': 0, 'cached_tokens': 0}}, 'model_name': 'gpt-4.1-nano-2025-04-14', 'system_fingerprint': 'fp_8fd43718b3', 'id': 'chatcmpl-BUb4eZJFKbgRIXaRlmfYtHpzc8MmN', 'finish_reason': 'stop', 'logprobs': None}, id='run-4d1ef8b1-a0d7-433d-bb2f-97683c57e563-0', usage_metadata={'input_tokens': 272, 'output_tokens': 31, 'total_tokens': 303, 'input_token_details': {'audio': 0, 'cache_read': 0}, 'output_token_details': {'audio': 0, 'reasoning': 0}})], 'summary': \"Certainly! Here's the extended summary of our conversation to date:\\n\\nLance introduced himself twice and expressed his fondness for the San Francisco 49ers, prompting the AI assistant to acknowledge his name and offer to discuss the team. The conversation was brief and included some repetition, with Lance reintroducing himself at the end without engaging further with the AI's prompts.\\n\\nRecently, Raahul joined the conversation, greeting the AI and introducing himself. The AI responded warmly to Raahul's introduction, asking how it could assist him today. The conversation has now included both Lance and Raahul, with the AI ready to engage with either or both of them on topics of their choice.\\n\\nIn the latest messages, Raahul reaffirmed his identity, and the AI responded by welcoming him again and asking how it could help. The conversation is ongoing, with the AI prepared to discuss sports, answer questions, or assist with anything else Raahul or Lance might want.\"}, next=(), config={'configurable': {'thread_id': '1', 'checkpoint_ns': '', 'checkpoint_id': '1f02b58b-a465-61e5-8027-81031795a962'}}, metadata={'source': 'loop', 'writes': {'conversation': {'messages': AIMessage(content=\"That's great! Chennai Super Kings are a popular and successful cricket team. Do you have a favorite player or a memorable match you'd like to talk about?\", additional_kwargs={'refusal': None}, response_metadata={'token_usage': {'completion_tokens': 31, 'prompt_tokens': 272, 'total_tokens': 303, 'completion_tokens_details': {'accepted_prediction_tokens': 0, 'audio_tokens': 0, 'reasoning_tokens': 0, 'rejected_prediction_tokens': 0}, 'prompt_tokens_details': {'audio_tokens': 0, 'cached_tokens': 0}}, 'model_name': 'gpt-4.1-nano-2025-04-14', 'system_fingerprint': 'fp_8fd43718b3', 'id': 'chatcmpl-BUb4eZJFKbgRIXaRlmfYtHpzc8MmN', 'finish_reason': 'stop', 'logprobs': None}, id='run-4d1ef8b1-a0d7-433d-bb2f-97683c57e563-0', usage_metadata={'input_tokens': 272, 'output_tokens': 31, 'total_tokens': 303, 'input_token_details': {'audio': 0, 'cache_read': 0}, 'output_token_details': {'audio': 0, 'reasoning': 0}})}}, 'step': 39, 'parents': {}, 'thread_id': '1'}, created_at='2025-05-07T15:34:13.077245+00:00', parent_config={'configurable': {'thread_id': '1', 'checkpoint_ns': '', 'checkpoint_id': '1f02b58b-9e7c-6dd5-8026-1cd52473a8c7'}}, tasks=())"
      ]
     },
     "execution_count": 64,
     "metadata": {},
     "output_type": "execute_result"
    }
   ],
   "source": [
    "config = {\"configurable\": {\"thread_id\": \"1\"}}\n",
    "graph_state = graph.get_state(config)\n",
    "graph_state"
   ]
  },
  {
   "cell_type": "markdown",
   "id": "6bd9102d",
   "metadata": {},
   "source": [
    "## Persisting State\n",
    "\n",
    "Using database like Sqlite means state is persisted! \n",
    "\n",
    "For example, we can re-start the notebook kernel and see that we can still load from Sqlite DB on disk."
   ]
  },
  {
   "cell_type": "code",
   "execution_count": 65,
   "id": "7145cdbd",
   "metadata": {},
   "outputs": [
    {
     "data": {
      "text/plain": [
       "StateSnapshot(values={'messages': [HumanMessage(content=\"hi! I'm Raahul\", additional_kwargs={}, response_metadata={}, id='4c5f795d-623e-4e51-8618-9b482192a4b4'), AIMessage(content='Hello again, Raahul! How can I assist you today?', additional_kwargs={'refusal': None}, response_metadata={'token_usage': {'completion_tokens': 15, 'prompt_tokens': 269, 'total_tokens': 284, 'completion_tokens_details': {'accepted_prediction_tokens': 0, 'audio_tokens': 0, 'reasoning_tokens': 0, 'rejected_prediction_tokens': 0}, 'prompt_tokens_details': {'audio_tokens': 0, 'cached_tokens': 0}}, 'model_name': 'gpt-4.1-nano-2025-04-14', 'system_fingerprint': 'fp_eede8f0d45', 'id': 'chatcmpl-BUb4aDdayx4ODBW7NEbafuAS5gWVM', 'finish_reason': 'stop', 'logprobs': None}, id='run-f14f754a-2161-4404-86b6-a85e0062bd1d-0', usage_metadata={'input_tokens': 269, 'output_tokens': 15, 'total_tokens': 284, 'input_token_details': {'audio': 0, 'cache_read': 0}, 'output_token_details': {'audio': 0, 'reasoning': 0}}), HumanMessage(content=\"what's my name?\", additional_kwargs={}, response_metadata={}, id='ad82fd8e-967f-4880-ae91-ca368c873918'), AIMessage(content='Your name is Raahul. How can I help you today?', additional_kwargs={'refusal': None}, response_metadata={'token_usage': {'completion_tokens': 15, 'prompt_tokens': 243, 'total_tokens': 258, 'completion_tokens_details': {'accepted_prediction_tokens': 0, 'audio_tokens': 0, 'reasoning_tokens': 0, 'rejected_prediction_tokens': 0}, 'prompt_tokens_details': {'audio_tokens': 0, 'cached_tokens': 0}}, 'model_name': 'gpt-4.1-nano-2025-04-14', 'system_fingerprint': 'fp_8fd43718b3', 'id': 'chatcmpl-BUb4dqnbWFsLN3HvfCrRo0DgUDAVG', 'finish_reason': 'stop', 'logprobs': None}, id='run-8e73cfc0-c3d3-4602-bbae-42a6ba44e0c0-0', usage_metadata={'input_tokens': 243, 'output_tokens': 15, 'total_tokens': 258, 'input_token_details': {'audio': 0, 'cache_read': 0}, 'output_token_details': {'audio': 0, 'reasoning': 0}}), HumanMessage(content='i like the Chennai Super Kings!', additional_kwargs={}, response_metadata={}, id='e47e92fc-5890-421b-bcbb-6d124e4d9520'), AIMessage(content=\"That's great! Chennai Super Kings are a popular and successful cricket team. Do you have a favorite player or a memorable match you'd like to talk about?\", additional_kwargs={'refusal': None}, response_metadata={'token_usage': {'completion_tokens': 31, 'prompt_tokens': 272, 'total_tokens': 303, 'completion_tokens_details': {'accepted_prediction_tokens': 0, 'audio_tokens': 0, 'reasoning_tokens': 0, 'rejected_prediction_tokens': 0}, 'prompt_tokens_details': {'audio_tokens': 0, 'cached_tokens': 0}}, 'model_name': 'gpt-4.1-nano-2025-04-14', 'system_fingerprint': 'fp_8fd43718b3', 'id': 'chatcmpl-BUb4eZJFKbgRIXaRlmfYtHpzc8MmN', 'finish_reason': 'stop', 'logprobs': None}, id='run-4d1ef8b1-a0d7-433d-bb2f-97683c57e563-0', usage_metadata={'input_tokens': 272, 'output_tokens': 31, 'total_tokens': 303, 'input_token_details': {'audio': 0, 'cache_read': 0}, 'output_token_details': {'audio': 0, 'reasoning': 0}})], 'summary': \"Certainly! Here's the extended summary of our conversation to date:\\n\\nLance introduced himself twice and expressed his fondness for the San Francisco 49ers, prompting the AI assistant to acknowledge his name and offer to discuss the team. The conversation was brief and included some repetition, with Lance reintroducing himself at the end without engaging further with the AI's prompts.\\n\\nRecently, Raahul joined the conversation, greeting the AI and introducing himself. The AI responded warmly to Raahul's introduction, asking how it could assist him today. The conversation has now included both Lance and Raahul, with the AI ready to engage with either or both of them on topics of their choice.\\n\\nIn the latest messages, Raahul reaffirmed his identity, and the AI responded by welcoming him again and asking how it could help. The conversation is ongoing, with the AI prepared to discuss sports, answer questions, or assist with anything else Raahul or Lance might want.\"}, next=(), config={'configurable': {'thread_id': '1', 'checkpoint_ns': '', 'checkpoint_id': '1f02b58b-a465-61e5-8027-81031795a962'}}, metadata={'source': 'loop', 'writes': {'conversation': {'messages': AIMessage(content=\"That's great! Chennai Super Kings are a popular and successful cricket team. Do you have a favorite player or a memorable match you'd like to talk about?\", additional_kwargs={'refusal': None}, response_metadata={'token_usage': {'completion_tokens': 31, 'prompt_tokens': 272, 'total_tokens': 303, 'completion_tokens_details': {'accepted_prediction_tokens': 0, 'audio_tokens': 0, 'reasoning_tokens': 0, 'rejected_prediction_tokens': 0}, 'prompt_tokens_details': {'audio_tokens': 0, 'cached_tokens': 0}}, 'model_name': 'gpt-4.1-nano-2025-04-14', 'system_fingerprint': 'fp_8fd43718b3', 'id': 'chatcmpl-BUb4eZJFKbgRIXaRlmfYtHpzc8MmN', 'finish_reason': 'stop', 'logprobs': None}, id='run-4d1ef8b1-a0d7-433d-bb2f-97683c57e563-0', usage_metadata={'input_tokens': 272, 'output_tokens': 31, 'total_tokens': 303, 'input_token_details': {'audio': 0, 'cache_read': 0}, 'output_token_details': {'audio': 0, 'reasoning': 0}})}}, 'step': 39, 'parents': {}, 'thread_id': '1'}, created_at='2025-05-07T15:34:13.077245+00:00', parent_config={'configurable': {'thread_id': '1', 'checkpoint_ns': '', 'checkpoint_id': '1f02b58b-9e7c-6dd5-8026-1cd52473a8c7'}}, tasks=())"
      ]
     },
     "execution_count": 65,
     "metadata": {},
     "output_type": "execute_result"
    }
   ],
   "source": [
    "# Create a thread\n",
    "config = {\"configurable\": {\"thread_id\": \"1\"}}\n",
    "graph_state = graph.get_state(config)\n",
    "graph_state"
   ]
  }
 ],
 "metadata": {
  "kernelspec": {
   "display_name": "lc-academy-env",
   "language": "python",
   "name": "python3"
  },
  "language_info": {
   "codemirror_mode": {
    "name": "ipython",
    "version": 3
   },
   "file_extension": ".py",
   "mimetype": "text/x-python",
   "name": "python",
   "nbconvert_exporter": "python",
   "pygments_lexer": "ipython3",
   "version": "3.12.4"
  }
 },
 "nbformat": 4,
 "nbformat_minor": 5
}
